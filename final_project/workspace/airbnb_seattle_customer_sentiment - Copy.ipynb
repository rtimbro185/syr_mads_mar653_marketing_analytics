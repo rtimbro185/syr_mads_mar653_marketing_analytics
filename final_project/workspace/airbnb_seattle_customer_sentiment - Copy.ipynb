{
 "cells": [
  {
   "cell_type": "markdown",
   "metadata": {},
   "source": [
    "# MAR 653 Marketing Analytics\n",
    "## \n",
    "\n",
    "\n",
    "Ryan Timbrook (RTIMBROO)  \n",
    "DATE:\n",
    "Topic: "
   ]
  },
  {
   "cell_type": "markdown",
   "metadata": {},
   "source": [
    "## 1. Objective\n",
    "_____________________________________________________________________________________________\n",
    "\n"
   ]
  },
  {
   "cell_type": "markdown",
   "metadata": {},
   "source": [
    "______________________________________________________________________________________________\n",
    "### Coding Environment Setup\n",
    "Import packages"
   ]
  },
  {
   "cell_type": "code",
   "execution_count": 1,
   "metadata": {},
   "outputs": [],
   "source": [
    "# import packages for analysis and modeling\n",
    "import pandas as pd #data frame operations\n",
    "import numpy as np #arrays and math functions\n",
    "\n",
    "## -- VISUALIZATION Packages\n",
    "import matplotlib.pyplot as plt #2D plotting\n",
    "%matplotlib inline\n",
    "\n",
    "plt.style.use('fivethirtyeight')\n",
    "import seaborn as sns #\n",
    "## -- \n",
    "import os\n",
    "import re\n",
    "from itertools import product\n",
    "from datetime import date\n",
    "from datetime import time\n",
    "from datetime import datetime\n",
    "import warnings\n",
    "from timeit import default_timer               # performance processing time\n",
    "import logging                                 # logging framework\n",
    "# get loggers\n",
    "warnings.filterwarnings('ignore')\n",
    "\n",
    "## Clustering\n",
    "from sklearn.cluster import KMeans, SpectralClustering\n",
    "\n"
   ]
  },
  {
   "cell_type": "code",
   "execution_count": 2,
   "metadata": {},
   "outputs": [
    {
     "name": "stdout",
     "output_type": "stream",
     "text": [
      "All the files are downloaded\n"
     ]
    }
   ],
   "source": [
    "# custome python packages\n",
    "import rtimbroo_utils as rt             # custome python helper functions\n",
    "import auq_42_utils as au"
   ]
  },
  {
   "cell_type": "code",
   "execution_count": 3,
   "metadata": {},
   "outputs": [],
   "source": [
    "# set global properties\n",
    "notebook_file_name = 'airbnb_seattle_customer_sentiment'\n",
    "report_file_name = 'airbnb_seattle_customer_sentiment'\n",
    "app_name = 'airbnb_seattle_customer_sentiment'\n",
    "log_level = 10 # 10-DEBUG, 20-INFO, 30-WARNING, 40-ERROR, 50-CRITICAL\n",
    "\n",
    "# setup working directory structure\n",
    "# set global properties\n",
    "dataDir = './data'\n",
    "outputDir = './output'\n",
    "configDir = './config'\n",
    "logOutDir = './logs'\n",
    "imageDir = './images'\n",
    "modelDir = './models'\n",
    "corpusDir = './corpus'"
   ]
  },
  {
   "cell_type": "code",
   "execution_count": 4,
   "metadata": {},
   "outputs": [],
   "source": [
    "# create base output directories if they don't exist\n",
    "if not os.path.exists(outputDir): os.mkdir(outputDir)\n",
    "if not os.path.exists(logOutDir): os.mkdir(logOutDir)\n",
    "if not os.path.exists(imageDir): os.mkdir(imageDir)\n",
    "if not os.path.exists(modelDir): os.mkdir(modelDir)\n",
    "if not os.path.exists(corpusDir): os.mkdir(corpusDir)"
   ]
  },
  {
   "cell_type": "code",
   "execution_count": 5,
   "metadata": {},
   "outputs": [
    {
     "data": {
      "text/plain": [
       "['2020-03-10']"
      ]
     },
     "execution_count": 5,
     "metadata": {},
     "output_type": "execute_result"
    }
   ],
   "source": [
    "# get current date\n",
    "now = datetime.utcnow().isoformat()\n",
    "now_date = re.findall('^[0-9]{4}-[0-9]{2}-[0-9]{2}',now)\n",
    "now_date"
   ]
  },
  {
   "cell_type": "code",
   "execution_count": 6,
   "metadata": {},
   "outputs": [],
   "source": [
    "#a logger for troubleshooting / data exploration\n",
    "logger = rt.getFileLogger(logOutDir+'/',app_name+'_'+now_date[0],level=log_level)"
   ]
  },
  {
   "cell_type": "markdown",
   "metadata": {},
   "source": [
    "## 2. OBTAIN the data   \n",
    "________________________________________________________________________________________________\n",
    "Import external datasets for evaluation\n",
    "\n",
    "##### Airbnb Seattle\n",
    "* Customer Reviews: reviews.csv\n",
    "* Host Listings: listings.csv\n",
    "* Calendar Listings: calendar.csv"
   ]
  },
  {
   "cell_type": "code",
   "execution_count": 7,
   "metadata": {},
   "outputs": [],
   "source": [
    "# datasets file names to load\n",
    "customer_reviews = pd.read_csv(f'{dataDir}/seattle/reviews.csv', error_bad_lines=False, encoding=\"ISO-8859-1\")\n",
    "host_listings = pd.read_csv(f'{dataDir}/seattle/listings.csv', error_bad_lines=False, encoding=\"ISO-8859-1\")\n",
    "calendar_listings = pd.read_csv(f'{dataDir}/seattle/calendar.csv', error_bad_lines=False, encoding=\"ISO-8859-1\")"
   ]
  },
  {
   "cell_type": "code",
   "execution_count": 8,
   "metadata": {},
   "outputs": [
    {
     "name": "stdout",
     "output_type": "stream",
     "text": [
      "<class 'pandas.core.frame.DataFrame'>\n",
      "RangeIndex: 84849 entries, 0 to 84848\n",
      "Data columns (total 6 columns):\n",
      "listing_id       84849 non-null int64\n",
      "id               84849 non-null int64\n",
      "date             84849 non-null object\n",
      "reviewer_id      84849 non-null int64\n",
      "reviewer_name    84849 non-null object\n",
      "comments         84831 non-null object\n",
      "dtypes: int64(3), object(3)\n",
      "memory usage: 3.9+ MB\n"
     ]
    }
   ],
   "source": [
    "# customer reviews info\n",
    "customer_reviews.info()"
   ]
  },
  {
   "cell_type": "code",
   "execution_count": 9,
   "metadata": {},
   "outputs": [
    {
     "data": {
      "text/html": [
       "<div>\n",
       "<style scoped>\n",
       "    .dataframe tbody tr th:only-of-type {\n",
       "        vertical-align: middle;\n",
       "    }\n",
       "\n",
       "    .dataframe tbody tr th {\n",
       "        vertical-align: top;\n",
       "    }\n",
       "\n",
       "    .dataframe thead th {\n",
       "        text-align: right;\n",
       "    }\n",
       "</style>\n",
       "<table border=\"1\" class=\"dataframe\">\n",
       "  <thead>\n",
       "    <tr style=\"text-align: right;\">\n",
       "      <th></th>\n",
       "      <th>listing_id</th>\n",
       "      <th>id</th>\n",
       "      <th>date</th>\n",
       "      <th>reviewer_id</th>\n",
       "      <th>reviewer_name</th>\n",
       "      <th>comments</th>\n",
       "    </tr>\n",
       "  </thead>\n",
       "  <tbody>\n",
       "    <tr>\n",
       "      <th>0</th>\n",
       "      <td>7202016</td>\n",
       "      <td>38917982</td>\n",
       "      <td>2015-07-19</td>\n",
       "      <td>28943674</td>\n",
       "      <td>Bianca</td>\n",
       "      <td>Cute and cozy place. Perfect location to every...</td>\n",
       "    </tr>\n",
       "    <tr>\n",
       "      <th>1</th>\n",
       "      <td>7202016</td>\n",
       "      <td>39087409</td>\n",
       "      <td>2015-07-20</td>\n",
       "      <td>32440555</td>\n",
       "      <td>Frank</td>\n",
       "      <td>Kelly has a great room in a very central locat...</td>\n",
       "    </tr>\n",
       "    <tr>\n",
       "      <th>2</th>\n",
       "      <td>7202016</td>\n",
       "      <td>39820030</td>\n",
       "      <td>2015-07-26</td>\n",
       "      <td>37722850</td>\n",
       "      <td>Ian</td>\n",
       "      <td>Very spacious apartment, and in a great neighb...</td>\n",
       "    </tr>\n",
       "    <tr>\n",
       "      <th>3</th>\n",
       "      <td>7202016</td>\n",
       "      <td>40813543</td>\n",
       "      <td>2015-08-02</td>\n",
       "      <td>33671805</td>\n",
       "      <td>George</td>\n",
       "      <td>Close to Seattle Center and all it has to offe...</td>\n",
       "    </tr>\n",
       "    <tr>\n",
       "      <th>4</th>\n",
       "      <td>7202016</td>\n",
       "      <td>41986501</td>\n",
       "      <td>2015-08-10</td>\n",
       "      <td>34959538</td>\n",
       "      <td>Ming</td>\n",
       "      <td>Kelly was a great host and very accommodating ...</td>\n",
       "    </tr>\n",
       "  </tbody>\n",
       "</table>\n",
       "</div>"
      ],
      "text/plain": [
       "   listing_id        id        date  reviewer_id reviewer_name  \\\n",
       "0     7202016  38917982  2015-07-19     28943674        Bianca   \n",
       "1     7202016  39087409  2015-07-20     32440555         Frank   \n",
       "2     7202016  39820030  2015-07-26     37722850           Ian   \n",
       "3     7202016  40813543  2015-08-02     33671805        George   \n",
       "4     7202016  41986501  2015-08-10     34959538          Ming   \n",
       "\n",
       "                                            comments  \n",
       "0  Cute and cozy place. Perfect location to every...  \n",
       "1  Kelly has a great room in a very central locat...  \n",
       "2  Very spacious apartment, and in a great neighb...  \n",
       "3  Close to Seattle Center and all it has to offe...  \n",
       "4  Kelly was a great host and very accommodating ...  "
      ]
     },
     "execution_count": 9,
     "metadata": {},
     "output_type": "execute_result"
    }
   ],
   "source": [
    "#customer_reviews.head()\n",
    "customer_reviews.head()"
   ]
  },
  {
   "cell_type": "code",
   "execution_count": null,
   "metadata": {
    "scrolled": true
   },
   "outputs": [],
   "source": [
    "host_listings.info()"
   ]
  },
  {
   "cell_type": "code",
   "execution_count": null,
   "metadata": {},
   "outputs": [],
   "source": [
    "host_listings.head()"
   ]
  },
  {
   "cell_type": "code",
   "execution_count": null,
   "metadata": {},
   "outputs": [],
   "source": [
    "calendar_listings.info()"
   ]
  },
  {
   "cell_type": "code",
   "execution_count": null,
   "metadata": {},
   "outputs": [],
   "source": [
    "calendar_listings.head()"
   ]
  },
  {
   "cell_type": "markdown",
   "metadata": {},
   "source": [
    "### 2.1 SCRUB / CLEAN\n",
    "Clean and perform initial transformations steps of the data"
   ]
  },
  {
   "cell_type": "code",
   "execution_count": null,
   "metadata": {},
   "outputs": [],
   "source": [
    "'''\n",
    "Utility functions to help clean the datasets\n",
    "'''\n",
    "\n",
    "def getNaNIndexes(df,att):\n",
    "    n = np.where(df[att].isnull()==True)\n",
    "    return list(n[0])\n",
    "\n",
    "def getNotNaNIndexes(df,att):\n",
    "    n = np.where(df[att].isnull()==False)\n",
    "    return list(n[0])\n",
    "\n",
    "def set_index_true(df,att):\n",
    "    not_null_indexes = getNotNaNIndexes(df,att)\n",
    "    for i in not_null_indexes:\n",
    "        df[att][i] = 1\n",
    "\n",
    "def set_nan_0(df,att):\n",
    "    df[att].fillna(0,inplace=True)\n",
    "\n",
    "def set_nan_other(df,att):\n",
    "    null_indexes = getNaNIndexes(df,att)\n",
    "    for i in null_indexes:\n",
    "        df[att][i] = 99\n",
    "        \n",
    "def set_nan_median(df,att):\n",
    "    null_indexes = getNaNIndexes(df,att)\n",
    "    d = df.copy()\n",
    "    m = d[att].dropna().median()\n",
    "    for i in null_indexes:\n",
    "        df[att][i] = m\n",
    "    \n",
    "def set_other_to_99(df,att):\n",
    "    n = np.where(df[att] == 'other')\n",
    "    for i in list(n[0]):\n",
    "        df[att][i] = 99"
   ]
  },
  {
   "cell_type": "markdown",
   "metadata": {},
   "source": [
    "## Calendar Listings\n"
   ]
  },
  {
   "cell_type": "code",
   "execution_count": null,
   "metadata": {},
   "outputs": [],
   "source": [
    "def convertToFloat(col):\n",
    "    \n",
    "    "
   ]
  },
  {
   "cell_type": "code",
   "execution_count": null,
   "metadata": {},
   "outputs": [],
   "source": [
    "calendar_listings['price'] = calendar_listings['price'].fillna(str('0'))\n",
    "calendar_listings.price[:5]\n",
    "\n",
    "\n",
    "#calendar_listings['price'].astype('int64',copy=False)[:5]"
   ]
  },
  {
   "cell_type": "code",
   "execution_count": null,
   "metadata": {},
   "outputs": [],
   "source": [
    "p = [p for p in calendar_listings['price']]"
   ]
  },
  {
   "cell_type": "code",
   "execution_count": null,
   "metadata": {},
   "outputs": [],
   "source": [
    "re_money = re.compile('^\\$\\d+')\n",
    "prices = []\n",
    "for e in calendar_listings['price']:\n",
    "    e = str(e)\n",
    "    e = e.replace('\\'','')\n",
    "    e = e.replace(',','')\n",
    "    #print(e)\n",
    "    if re.match(re_money,e):\n",
    "        #print(e[1:])\n",
    "        prices.append(e[1:])\n",
    "    else:\n",
    "        prices.append(e)\n",
    "    #break\n",
    "new_prices = np.array(prices).astype(np.float)"
   ]
  },
  {
   "cell_type": "code",
   "execution_count": null,
   "metadata": {},
   "outputs": [],
   "source": [
    "calendar_listings['price'] = new_prices\n",
    "calendar_listings.head()"
   ]
  },
  {
   "cell_type": "code",
   "execution_count": null,
   "metadata": {},
   "outputs": [],
   "source": [
    "calendar_listings.info()"
   ]
  },
  {
   "cell_type": "code",
   "execution_count": null,
   "metadata": {},
   "outputs": [],
   "source": [
    " # output file names based on date range search\n",
    "cleanPath = f'{dataDir}/clean'\n",
    "if not os.path.exists(cleanPath): os.makedirs(cleanPath)\n",
    "calendar_listings.to_csv(f'{cleanPath}/calendar_listings.csv', index=False)\n"
   ]
  },
  {
   "cell_type": "markdown",
   "metadata": {},
   "source": [
    "##### Limit Host Listings data:\n",
    "\n",
    "listings [price, weekly_price, monthly_price, security_deposit, cleaning_fee, number_of_reviews, first_review, last_review, review_scores_rating, review_scores_accuracy, review_scores_cleanliness, review_scores_checkin, review_scores_communication, review_scores_location, review_scores_value, reviews_per_month, host_since, host_response_time, host_responase_rate, host_acceptance_rate, host_is_superhost, host_listing_counts, host_total_listings_count, property_type, room_type, accommodations, bathrooms, bedrooms, beds, bed_type, amenities, square_foot, availability_30, availability_60, availability_90, avaiability_365]"
   ]
  },
  {
   "cell_type": "code",
   "execution_count": null,
   "metadata": {},
   "outputs": [],
   "source": [
    "hosts_listings_keep = ['price', 'weekly_price', 'monthly_price', 'security_deposit', 'cleaning_fee', 'number_of_reviews', 'first_review', 'last_review', 'review_scores_rating', 'review_scores_accuracy', 'review_scores_cleanliness', 'review_scores_checkin', 'review_scores_communication, review_scores_location, review_scores_value, reviews_per_month, host_since, host_response_time, host_responase_rate, host_acceptance_rate, host_is_superhost, host_listing_counts, host_total_listings_count, property_type, room_type, accommodations, bathrooms, bedrooms, beds, bed_type, 'amenities', 'square_foot', 'availability_30', 'availability_60', 'availability_90', 'avaiability_365']\n",
    "new_host_listings = host_listings[]\n",
    "new_host_listings.head()"
   ]
  },
  {
   "cell_type": "code",
   "execution_count": null,
   "metadata": {},
   "outputs": [],
   "source": []
  },
  {
   "cell_type": "markdown",
   "metadata": {},
   "source": [
    "#### Customer Reviews data:\n",
    "\n",
    "reviews [reviewer_name, comments, date] (keys to link the datasets will also be included such as 'listing_id', 'reviewer_id')"
   ]
  },
  {
   "cell_type": "markdown",
   "metadata": {},
   "source": [
    "#### Run Wordcloud Visualizations"
   ]
  },
  {
   "cell_type": "code",
   "execution_count": null,
   "metadata": {},
   "outputs": [],
   "source": [
    "rt.wordcloud_draw(customer_reviews['comments'], color='white',max_words=200)"
   ]
  },
  {
   "cell_type": "code",
   "execution_count": null,
   "metadata": {},
   "outputs": [],
   "source": []
  },
  {
   "cell_type": "markdown",
   "metadata": {},
   "source": [
    "   ## Save Datasets Clean"
   ]
  },
  {
   "cell_type": "code",
   "execution_count": null,
   "metadata": {},
   "outputs": [],
   "source": [
    " # output file names based on date range search\n",
    "cleanPath = f'{dataDir}/clean'\n",
    "if not os.path.exists(cleanPath): os.makedirs(cleanPath)\n",
    "customer_reviews.to_csv(f'{cleanPath}/customer_reviews.csv', index=False)\n",
    "host_listings.to_csv(f'{cleanPath}/host_listings.csv', index=False)"
   ]
  },
  {
   "cell_type": "markdown",
   "metadata": {},
   "source": [
    "## Explore Cleaned Datasets"
   ]
  },
  {
   "cell_type": "code",
   "execution_count": null,
   "metadata": {},
   "outputs": [],
   "source": [
    "customer_reviews = pd.read_csv(f'{dataDir}/clean/customer_reviews.csv', error_bad_lines=False, encoding=\"ISO-8859-1\")\n",
    "host_listings = pd.read_csv(f'{dataDir}/clean/host_listings.csv', error_bad_lines=False, encoding=\"ISO-8859-1\")"
   ]
  },
  {
   "cell_type": "code",
   "execution_count": null,
   "metadata": {},
   "outputs": [],
   "source": [
    "# transform factor attributes to categorical datatypes\n",
    "\n",
    "# food_consumption_habbit - both - food_consumption_habbit_features\n",
    "#customer_survey[food_consumption_habbit_features] = customer_survey[food_consumption_habbit_features].astype('category')\n",
    "#noncustomer_survey[food_consumption_habbit_features] = noncustomer_survey[food_consumption_habbit_features].astype('category')\n",
    "\n"
   ]
  },
  {
   "cell_type": "markdown",
   "metadata": {},
   "source": [
    "## Correlation Heatmaps"
   ]
  },
  {
   "cell_type": "markdown",
   "metadata": {},
   "source": [
    "## 3. MODEL\n",
    "_________________________________________________________________________________________________\n",
    "Create models"
   ]
  },
  {
   "cell_type": "markdown",
   "metadata": {},
   "source": [
    "### 3.1 Model Analysis\n",
    "\n",
    "####3.1.1 - Segmentation Analysis\n",
    "\n"
   ]
  },
  {
   "cell_type": "markdown",
   "metadata": {},
   "source": [
    "## 3.1 K-means Clustering\n",
    "Python package: scikit-learn v0.21.3 [sklearn.cluster.KMeans](https://scikit-learn.org/stable/modules/generated/sklearn.cluster.KMeans.html#sklearn.cluster.KMeans)  \n",
    "\n",
    "Description: ...\n",
    "\n",
    "### 3.1.3 Model - KMeans\n",
    "* Run multiple k means to determin optimal k size for final model creation\n",
    "    * 8 iterations were ran, where k 4 was the most optimal"
   ]
  },
  {
   "cell_type": "code",
   "execution_count": null,
   "metadata": {},
   "outputs": [],
   "source": []
  },
  {
   "cell_type": "code",
   "execution_count": null,
   "metadata": {},
   "outputs": [],
   "source": [
    "new_customer_survey = customer_survey.drop(columns=drop_list)\n",
    "\n",
    "#new_customer_survey.info()\n",
    "#for f in new_customer_survey.columns:\n",
    "    #set_other_to_99(new_customer_survey,f)"
   ]
  },
  {
   "cell_type": "code",
   "execution_count": null,
   "metadata": {},
   "outputs": [],
   "source": []
  },
  {
   "cell_type": "code",
   "execution_count": null,
   "metadata": {},
   "outputs": [],
   "source": [
    "from sklearn.cluster import KMeans, SpectralClustering\n",
    "from sklearn.preprocessing import StandardScaler\n",
    "from sklearn.metrics import silhouette_samples, silhouette_score\n",
    "\n",
    "def build_kmeans(n_clusters,random_state,n_jobs,verbose=0):\n",
    "    km = KMeans(\n",
    "        n_clusters=n_clusters, \n",
    "        init=\"k-means++\", # using elbow to figure out k for kmeans\n",
    "        n_init=10, \n",
    "        max_iter=300, \n",
    "        tol=0.0001, \n",
    "        precompute_distances=\"auto\", \n",
    "        verbose=verbose, \n",
    "        random_state=random_state, # determines random number generation for centroid initialization, Use an int to make the randomness deterministic, (i.e. running it multiple times will produce the same result)\n",
    "        copy_x=True, \n",
    "        n_jobs=n_jobs, \n",
    "        algorithm=\"auto\")\n",
    "    \n",
    "    return km"
   ]
  },
  {
   "cell_type": "code",
   "execution_count": null,
   "metadata": {},
   "outputs": [],
   "source": [
    "# Run multiple k means to determin optimal k size for final model creation\n",
    "\n",
    "sse = {} # store output for analysis\n",
    "# set range from 2 - 20, assum max number of clusters to be 20\n",
    "for k in range(2,20):\n",
    "    km = build_kmeans(n_clusters=k,random_state=0,n_jobs=None)\n",
    "    X_std = km.fit_transform(new_customer_survey) #\n",
    "    kmeans = km.fit(X_std)\n",
    "    sse[k] = kmeans.inertia_ # Inertia: sum of distances of samples to their closest cluster center\n",
    "\n",
    "# plot elbow    \n",
    "plt.figure()\n",
    "plt.plot(list(sse.keys()), list(sse.values()))\n",
    "plt.title('The Elbow Method')\n",
    "plt.xlabel('Number of clusters')\n",
    "plt.ylabel('SSE')\n",
    "plt.show()"
   ]
  },
  {
   "cell_type": "code",
   "execution_count": null,
   "metadata": {},
   "outputs": [],
   "source": [
    "logger.info(f'kmeans class labels... {kmeans.labels_}')\n",
    "logger.info(f'kmeans parameters... {kmeans.get_params()}')\n",
    "logger.info(f'sse out analysis, multiple k-means trials\\n: {list(sse.keys()), list(sse.values())}')"
   ]
  },
  {
   "cell_type": "code",
   "execution_count": null,
   "metadata": {},
   "outputs": [],
   "source": [
    "##### Build KMeans based on ideal cluster state found by Elbow method: ???\n"
   ]
  },
  {
   "cell_type": "code",
   "execution_count": null,
   "metadata": {},
   "outputs": [],
   "source": [
    "# build KMeans based on ideal cluster state found above - 4\n"
   ]
  },
  {
   "cell_type": "markdown",
   "metadata": {},
   "source": [
    "#### 3.1.4 Results\n"
   ]
  },
  {
   "cell_type": "code",
   "execution_count": null,
   "metadata": {},
   "outputs": [],
   "source": []
  },
  {
   "cell_type": "markdown",
   "metadata": {},
   "source": [
    "### 3.2 Model Exploration\n",
    "\n",
    "##### 3.2.1 "
   ]
  },
  {
   "cell_type": "code",
   "execution_count": null,
   "metadata": {
    "scrolled": true
   },
   "outputs": [],
   "source": []
  },
  {
   "cell_type": "code",
   "execution_count": null,
   "metadata": {},
   "outputs": [],
   "source": [
    "c"
   ]
  },
  {
   "cell_type": "code",
   "execution_count": null,
   "metadata": {},
   "outputs": [],
   "source": [
    "\n"
   ]
  },
  {
   "cell_type": "markdown",
   "metadata": {},
   "source": [
    "##### 3.2. Which Profiles should Sticks Profile?"
   ]
  },
  {
   "cell_type": "code",
   "execution_count": null,
   "metadata": {},
   "outputs": [],
   "source": []
  },
  {
   "cell_type": "markdown",
   "metadata": {},
   "source": [
    "### 3.3 Model Build"
   ]
  },
  {
   "cell_type": "code",
   "execution_count": null,
   "metadata": {},
   "outputs": [],
   "source": []
  },
  {
   "cell_type": "markdown",
   "metadata": {},
   "source": [
    "### 3.4 Model Evaluation"
   ]
  },
  {
   "cell_type": "code",
   "execution_count": null,
   "metadata": {},
   "outputs": [],
   "source": []
  },
  {
   "cell_type": "markdown",
   "metadata": {},
   "source": [
    "### 3.5 Model Results"
   ]
  },
  {
   "cell_type": "code",
   "execution_count": null,
   "metadata": {},
   "outputs": [],
   "source": []
  },
  {
   "cell_type": "markdown",
   "metadata": {},
   "source": [
    "#### Model Validation\n",
    "Perform model validations"
   ]
  },
  {
   "cell_type": "markdown",
   "metadata": {},
   "source": [
    "### iNterpret\n",
    "Interpret the model results, make knowledge based recommendations"
   ]
  },
  {
   "cell_type": "code",
   "execution_count": null,
   "metadata": {},
   "outputs": [],
   "source": [
    "# perform interpretation steps"
   ]
  },
  {
   "cell_type": "code",
   "execution_count": null,
   "metadata": {},
   "outputs": [],
   "source": []
  },
  {
   "cell_type": "markdown",
   "metadata": {},
   "source": [
    "# Report Generation\n",
    "Execute the below cell to create an HTML report"
   ]
  },
  {
   "cell_type": "code",
   "execution_count": null,
   "metadata": {},
   "outputs": [],
   "source": [
    "# for report auto generation\n",
    "# testing markup report generation\n",
    "from nbconvert import HTMLExporter\n",
    "import codecs\n",
    "import os\n",
    "import datetime\n",
    "\n",
    "stamp = datetime.date.today().strftime(\"%m-%d-%Y\")\n",
    "exporter = HTMLExporter(template_file='report.tpl')\n",
    "output, resources = exporter.from_filename(notebook_file_name)\n",
    "new_fnw = report_file_name\n",
    "codecs.open(new_fnw, 'w',encoding='utf-8').write(output)"
   ]
  }
 ],
 "metadata": {
  "kernelspec": {
   "display_name": "Python 3",
   "language": "python",
   "name": "python3"
  },
  "language_info": {
   "codemirror_mode": {
    "name": "ipython",
    "version": 3
   },
   "file_extension": ".py",
   "mimetype": "text/x-python",
   "name": "python",
   "nbconvert_exporter": "python",
   "pygments_lexer": "ipython3",
   "version": "3.7.3"
  }
 },
 "nbformat": 4,
 "nbformat_minor": 2
}
